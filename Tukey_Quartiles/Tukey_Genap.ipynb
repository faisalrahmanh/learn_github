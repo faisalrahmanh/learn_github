{
 "cells": [
  {
   "cell_type": "code",
   "execution_count": null,
   "metadata": {},
   "outputs": [],
   "source": [
    "# GENAP\n",
    "x = [78,86,57,68,56,86,78,92,68,75,63,58,66,78,43,48,60,68,79,85]\n",
    "x.sort()\n",
    "# Untuk melihat list yang terbaru\n",
    "print(x)\n",
    "# Untuk mengetahui ada berapa banyak angka di dalam list \"X\"\n",
    "print(len(x))\n",
    "# Untuk menampilkan n angka pertama dari list \"X\"\n",
    "print(x[0:10])\n",
    "# Untuk menampilkan nilai tengah dari Q1 \"X\"\n",
    "print(x[4:6])\n",
    "# Untuk mencari Q1 \"X\"\n",
    "sum = 0\n",
    "for item in x[4:6]:\n",
    "    sum += item\n",
    "print(sum/2)   "
   ]
  }
 ],
 "metadata": {
  "kernelspec": {
   "display_name": "Python 3",
   "language": "python",
   "name": "python3"
  },
  "language_info": {
   "codemirror_mode": {
    "name": "ipython",
    "version": 3
   },
   "file_extension": ".py",
   "mimetype": "text/x-python",
   "name": "python",
   "nbconvert_exporter": "python",
   "pygments_lexer": "ipython3",
   "version": "3.7.3"
  }
 },
 "nbformat": 4,
 "nbformat_minor": 2
}
