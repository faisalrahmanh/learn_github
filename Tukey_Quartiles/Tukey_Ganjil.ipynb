{
 "cells": [
  {
   "cell_type": "code",
   "execution_count": null,
   "metadata": {},
   "outputs": [],
   "source": [
    "# GANJIL\n",
    "x = [1,2,3,11,5,2,7,18,9]\n",
    "# Untuk mengurutkan dari nilai terendah \n",
    "x.sort()\n",
    "# Untuk melihat list yang terbaru\n",
    "print(x)\n",
    "# Untuk mengetahui ada berapa banyak angka di dalam list \"X\"\n",
    "print(len(x))\n",
    "# Bagi hasil (len(x)) dan bulatkan bilangan tersebut ke atas menggunakan math.ceil\n",
    "import math\n",
    "print(math.ceil(len(x)/2))\n",
    "# Untuk memisahkan list \"X\":\n",
    "# a. Q1 = Mulai dari 0 : math.ceil(len(x)/2)\n",
    "# b. Q3 = Mulai dari math.ceil(len(x)/2) : len(x)\n",
    "print(x[0:5])\n",
    "# Untuk mengetahui berapa banyak angka di dalam list \"X\" yang terbaru\n",
    "print(len(x[0:5]))\n",
    "# Bagi hasil (len(x)) dan bulatkan bilangan tersebut ke bawah menggunakan math.floor\n",
    "print(math.floor(len(x[0:5])/2))\n",
    "# print index berdasarkan angka diatas\n",
    "# Q1 = Tidak usah ditambahkan\n",
    "# Q3 = Tambahkan angka len(x)\n",
    "print(x[2])"
   ]
  }
 ],
 "metadata": {
  "kernelspec": {
   "display_name": "Python 3",
   "language": "python",
   "name": "python3"
  },
  "language_info": {
   "codemirror_mode": {
    "name": "ipython",
    "version": 3
   },
   "file_extension": ".py",
   "mimetype": "text/x-python",
   "name": "python",
   "nbconvert_exporter": "python",
   "pygments_lexer": "ipython3",
   "version": "3.7.3"
  }
 },
 "nbformat": 4,
 "nbformat_minor": 2
}
